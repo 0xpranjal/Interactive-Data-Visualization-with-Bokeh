{
 "cells": [
  {
   "cell_type": "markdown",
   "metadata": {},
   "source": [
    "You can create Bokeh plots from Pandas DataFrames by passing column selections to the glyph functions.\n",
    "\n",
    "Bokeh can plot floating point numbers, integers, and datetime data types. In this example, you will read a CSV file containing information on 392 automobiles manufactured in the US, Europe and Asia from 1970 to 1982.\n",
    "\n",
    "The CSV file is provided for you as 'auto.csv'.\n",
    "\n",
    "Your job is to plot miles-per-gallon (mpg) vs horsepower (hp) by passing Pandas column selections into the p.circle() function. Additionally, each glyph will be colored according to values in the color column."
   ]
  },
  {
   "cell_type": "code",
   "execution_count": null,
   "metadata": {},
   "outputs": [],
   "source": [
    "# Import pandas as pd\n",
    "import pandas as pd\n",
    "\n",
    "# Read in the CSV file: df\n",
    "df = pd.read_csv('auto.csv')\n",
    "\n",
    "# Import figure from bokeh.plotting\n",
    "from bokeh.plotting import figure\n",
    "\n",
    "# Create the figure: p\n",
    "p = figure(x_axis_label='HP', y_axis_label='MPG')\n",
    "\n",
    "# Plot mpg vs hp by color\n",
    "p.circle(df['hp'], df['mpg'], color=df['color'], size=10)\n",
    "\n",
    "# Specify the name of the output file and show the result\n",
    "output_file('auto-df.html')\n",
    "show(p)"
   ]
  }
 ],
 "metadata": {
  "kernelspec": {
   "display_name": "Python 3",
   "language": "python",
   "name": "python3"
  },
  "language_info": {
   "codemirror_mode": {
    "name": "ipython",
    "version": 3
   },
   "file_extension": ".py",
   "mimetype": "text/x-python",
   "name": "python",
   "nbconvert_exporter": "python",
   "pygments_lexer": "ipython3",
   "version": "3.7.6"
  }
 },
 "nbformat": 4,
 "nbformat_minor": 4
}
