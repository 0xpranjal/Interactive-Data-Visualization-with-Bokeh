{
 "cells": [
  {
   "cell_type": "markdown",
   "metadata": {},
   "source": [
    "By calling multiple glyph functions on the same figure object, we can overlay multiple data sets in the same figure.\n",
    "\n",
    "In this exercise, you will plot female literacy vs fertility for two different regions, Africa and Latin America. Each set of x and y data has been loaded separately for you as fertility_africa, female_literacy_africa, fertility_latinamerica, and female_literacy_latinamerica.\n",
    "\n",
    "Your job is to plot the Latin America data with the circle() glyph, and the Africa data with the x() glyph.\n",
    "\n",
    "figure has already been imported for you from bokeh.plotting."
   ]
  },
  {
   "cell_type": "code",
   "execution_count": null,
   "metadata": {},
   "outputs": [],
   "source": [
    "# Create the figure: p\n",
    "p = figure(x_axis_label='fertility (children per woman)', y_axis_label='female_literacy (% population)')\n",
    "\n",
    "# Add a circle glyph to the figure p\n",
    "p.circle(fertility_latinamerica, female_literacy_latinamerica)\n",
    "\n",
    "# Add an x glyph to the figure p\n",
    "p.x(fertility_africa, female_literacy_africa)\n",
    "\n",
    "# Specify the name of the file\n",
    "output_file('fert_lit_separate.html')\n",
    "\n",
    "# Display the plot\n",
    "show(p)"
   ]
  }
 ],
 "metadata": {
  "kernelspec": {
   "display_name": "Python 3",
   "language": "python",
   "name": "python3"
  },
  "language_info": {
   "codemirror_mode": {
    "name": "ipython",
    "version": 3
   },
   "file_extension": ".py",
   "mimetype": "text/x-python",
   "name": "python",
   "nbconvert_exporter": "python",
   "pygments_lexer": "ipython3",
   "version": "3.7.6"
  }
 },
 "nbformat": 4,
 "nbformat_minor": 4
}
