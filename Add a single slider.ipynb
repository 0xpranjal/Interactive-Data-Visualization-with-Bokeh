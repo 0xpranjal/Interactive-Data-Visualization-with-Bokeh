{
 "cells": [
  {
   "cell_type": "markdown",
   "metadata": {},
   "source": [
    "In the previous exercise, you added a single plot to the \"current document\" of your application. In this exercise, you'll practice adding a layout to your current document.\n",
    "\n",
    "Your job here is to create a single slider, use it to create a widgetbox layout, and then add this layout to the current document.\n",
    "\n",
    "The slider you create here cannot be used for much, but in the later exercises, you'll use it to update your plots!"
   ]
  },
  {
   "cell_type": "code",
   "execution_count": null,
   "metadata": {},
   "outputs": [],
   "source": [
    "# Perform the necessary imports\n",
    "from bokeh.io import curdoc\n",
    "from bokeh.layouts import widgetbox\n",
    "from bokeh.models import Slider\n",
    "\n",
    "# Create a slider: slider\n",
    "slider = Slider(title='my slider', start=0, end=10, step=0.1, value=2)\n",
    "\n",
    "# Create a widgetbox layout: layout\n",
    "layout = widgetbox(slider)\n",
    "\n",
    "# Add the layout to the current document\n",
    "curdoc().add_root(layout)"
   ]
  }
 ],
 "metadata": {
  "kernelspec": {
   "display_name": "Python 3",
   "language": "python",
   "name": "python3"
  },
  "language_info": {
   "codemirror_mode": {
    "name": "ipython",
    "version": 3
   },
   "file_extension": ".py",
   "mimetype": "text/x-python",
   "name": "python",
   "nbconvert_exporter": "python",
   "pygments_lexer": "ipython3",
   "version": "3.7.6"
  }
 },
 "nbformat": 4,
 "nbformat_minor": 4
}
