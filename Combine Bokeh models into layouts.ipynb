{
 "cells": [
  {
   "cell_type": "markdown",
   "metadata": {},
   "source": [
    "Let's begin making a Bokeh application that has a simple slider and plot, that also updates the plot based on the slider.\n",
    "\n",
    "In this exercise, your job is to first explicitly create a ColumnDataSource. You'll then combine a plot and a slider into a single column layout, and add it to the current document.\n",
    "\n",
    "After you are done, notice how in the figure you generate, the slider will not actually update the plot, because a widget callback has not been defined. You'll learn how to update the plot using widget callbacks in the next exercise.\n",
    "\n",
    "All the necessary modules have been imported for you. The plot is available in the workspace as plot, and the slider is available as slider."
   ]
  },
  {
   "cell_type": "code",
   "execution_count": null,
   "metadata": {},
   "outputs": [],
   "source": [
    "# Create ColumnDataSource: source\n",
    "source = ColumnDataSource(data={'x': x, 'y': y})\n",
    "\n",
    "# Add a line to the plot\n",
    "plot.line('x', 'y', source=source)\n",
    "\n",
    "# Create a column layout: layout\n",
    "layout = column(widgetbox(slider), plot)\n",
    "\n",
    "# Add the layout to the current document\n",
    "curdoc().add_root(layout)"
   ]
  }
 ],
 "metadata": {
  "kernelspec": {
   "display_name": "Python 3",
   "language": "python",
   "name": "python3"
  },
  "language_info": {
   "codemirror_mode": {
    "name": "ipython",
    "version": 3
   },
   "file_extension": ".py",
   "mimetype": "text/x-python",
   "name": "python",
   "nbconvert_exporter": "python",
   "pygments_lexer": "ipython3",
   "version": "3.7.6"
  }
 },
 "nbformat": 4,
 "nbformat_minor": 4
}
