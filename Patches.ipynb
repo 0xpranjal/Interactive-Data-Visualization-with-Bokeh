{
 "cells": [
  {
   "cell_type": "markdown",
   "metadata": {},
   "source": [
    "In Bokeh, extended geometrical shapes can be plotted by using the patches() glyph function. The patches glyph takes as input a list-of-lists collection of numeric values specifying the vertices in x and y directions of each distinct patch to plot.\n",
    "\n",
    "In this exercise, you will plot the state borders of Arizona, Colorado, New Mexico and Utah. The latitude and longitude vertices for each state have been prepared as lists.\n",
    "\n",
    "Your job is to plot longitude on the x-axis and latitude on the y-axis. The figure object has been created for you as p."
   ]
  },
  {
   "cell_type": "code",
   "execution_count": null,
   "metadata": {},
   "outputs": [],
   "source": [
    "# Create a list of az_lons, co_lons, nm_lons and ut_lons: x\n",
    "x = [az_lons, co_lons, nm_lons, ut_lons]\n",
    "\n",
    "# Create a list of az_lats, co_lats, nm_lats and ut_lats: y\n",
    "y = [az_lats, co_lats, nm_lats, ut_lats]\n",
    "\n",
    "# Add patches to figure p with line_color=white for x and y\n",
    "p.patches(x, y, line_color='white')\n",
    "\n",
    "# Specify the name of the output file and show the result\n",
    "output_file('four_corners.html')\n",
    "show(p)"
   ]
  }
 ],
 "metadata": {
  "kernelspec": {
   "display_name": "Python 3",
   "language": "python",
   "name": "python3"
  },
  "language_info": {
   "codemirror_mode": {
    "name": "ipython",
    "version": 3
   },
   "file_extension": ".py",
   "mimetype": "text/x-python",
   "name": "python",
   "nbconvert_exporter": "python",
   "pygments_lexer": "ipython3",
   "version": "3.7.6"
  }
 },
 "nbformat": 4,
 "nbformat_minor": 4
}
