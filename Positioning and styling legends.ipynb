{
 "cells": [
  {
   "cell_type": "markdown",
   "metadata": {},
   "source": [
    "Properties of the legend can be changed by using the legend member attribute of a Bokeh figure after the glyphs have been plotted.\n",
    "\n",
    "In this exercise, you'll adjust the background color and legend location of the female literacy vs fertility plot from the previous exercise.\n",
    "\n",
    "The figure object p has been created for you along with the circle glyphs."
   ]
  },
  {
   "cell_type": "code",
   "execution_count": null,
   "metadata": {},
   "outputs": [],
   "source": [
    "# Assign the legend to the bottom left: p.legend.location\n",
    "\n",
    "\n",
    "p.legend.location = 'bottom_left'\n",
    "# Fill the legend background with the color 'lightgray': p.legend.background_fill_color\n",
    "\n",
    "p.legend.background_fill_color = 'lightgray'\n",
    "# Specify the name of the output_file and show the result\n",
    "output_file('fert_lit_groups.html')\n",
    "show(p)"
   ]
  }
 ],
 "metadata": {
  "kernelspec": {
   "display_name": "Python 3",
   "language": "python",
   "name": "python3"
  },
  "language_info": {
   "codemirror_mode": {
    "name": "ipython",
    "version": 3
   },
   "file_extension": ".py",
   "mimetype": "text/x-python",
   "name": "python",
   "nbconvert_exporter": "python",
   "pygments_lexer": "ipython3",
   "version": "3.7.6"
  }
 },
 "nbformat": 4,
 "nbformat_minor": 4
}
